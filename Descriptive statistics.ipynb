{
 "cells": [
  {
   "cell_type": "code",
   "execution_count": 1,
   "metadata": {},
   "outputs": [],
   "source": [
    "import numpy as np\n",
    "import pandas as pd\n",
    "import seaborn as sns\n",
    "import matplotlib.pyplot as plt"
   ]
  },
  {
   "cell_type": "code",
   "execution_count": 2,
   "metadata": {},
   "outputs": [
    {
     "data": {
      "text/html": [
       "<div>\n",
       "<style scoped>\n",
       "    .dataframe tbody tr th:only-of-type {\n",
       "        vertical-align: middle;\n",
       "    }\n",
       "\n",
       "    .dataframe tbody tr th {\n",
       "        vertical-align: top;\n",
       "    }\n",
       "\n",
       "    .dataframe thead th {\n",
       "        text-align: right;\n",
       "    }\n",
       "</style>\n",
       "<table border=\"1\" class=\"dataframe\">\n",
       "  <thead>\n",
       "    <tr style=\"text-align: right;\">\n",
       "      <th></th>\n",
       "      <th>Id</th>\n",
       "      <th>MSSubClass</th>\n",
       "      <th>MSZoning</th>\n",
       "      <th>LotFrontage</th>\n",
       "      <th>LotArea</th>\n",
       "      <th>Street</th>\n",
       "      <th>Alley</th>\n",
       "      <th>LotShape</th>\n",
       "      <th>LandContour</th>\n",
       "      <th>Utilities</th>\n",
       "      <th>...</th>\n",
       "      <th>PoolArea</th>\n",
       "      <th>PoolQC</th>\n",
       "      <th>Fence</th>\n",
       "      <th>MiscFeature</th>\n",
       "      <th>MiscVal</th>\n",
       "      <th>MoSold</th>\n",
       "      <th>YrSold</th>\n",
       "      <th>SaleType</th>\n",
       "      <th>SaleCondition</th>\n",
       "      <th>SalePrice</th>\n",
       "    </tr>\n",
       "  </thead>\n",
       "  <tbody>\n",
       "    <tr>\n",
       "      <th>0</th>\n",
       "      <td>1</td>\n",
       "      <td>60</td>\n",
       "      <td>RL</td>\n",
       "      <td>65.0</td>\n",
       "      <td>8450</td>\n",
       "      <td>Pave</td>\n",
       "      <td>NaN</td>\n",
       "      <td>Reg</td>\n",
       "      <td>Lvl</td>\n",
       "      <td>AllPub</td>\n",
       "      <td>...</td>\n",
       "      <td>0</td>\n",
       "      <td>NaN</td>\n",
       "      <td>NaN</td>\n",
       "      <td>NaN</td>\n",
       "      <td>0</td>\n",
       "      <td>2</td>\n",
       "      <td>2008</td>\n",
       "      <td>WD</td>\n",
       "      <td>Normal</td>\n",
       "      <td>208500</td>\n",
       "    </tr>\n",
       "    <tr>\n",
       "      <th>1</th>\n",
       "      <td>2</td>\n",
       "      <td>20</td>\n",
       "      <td>RL</td>\n",
       "      <td>80.0</td>\n",
       "      <td>9600</td>\n",
       "      <td>Pave</td>\n",
       "      <td>NaN</td>\n",
       "      <td>Reg</td>\n",
       "      <td>Lvl</td>\n",
       "      <td>AllPub</td>\n",
       "      <td>...</td>\n",
       "      <td>0</td>\n",
       "      <td>NaN</td>\n",
       "      <td>NaN</td>\n",
       "      <td>NaN</td>\n",
       "      <td>0</td>\n",
       "      <td>5</td>\n",
       "      <td>2007</td>\n",
       "      <td>WD</td>\n",
       "      <td>Normal</td>\n",
       "      <td>181500</td>\n",
       "    </tr>\n",
       "    <tr>\n",
       "      <th>2</th>\n",
       "      <td>3</td>\n",
       "      <td>60</td>\n",
       "      <td>RL</td>\n",
       "      <td>68.0</td>\n",
       "      <td>11250</td>\n",
       "      <td>Pave</td>\n",
       "      <td>NaN</td>\n",
       "      <td>IR1</td>\n",
       "      <td>Lvl</td>\n",
       "      <td>AllPub</td>\n",
       "      <td>...</td>\n",
       "      <td>0</td>\n",
       "      <td>NaN</td>\n",
       "      <td>NaN</td>\n",
       "      <td>NaN</td>\n",
       "      <td>0</td>\n",
       "      <td>9</td>\n",
       "      <td>2008</td>\n",
       "      <td>WD</td>\n",
       "      <td>Normal</td>\n",
       "      <td>223500</td>\n",
       "    </tr>\n",
       "    <tr>\n",
       "      <th>3</th>\n",
       "      <td>4</td>\n",
       "      <td>70</td>\n",
       "      <td>RL</td>\n",
       "      <td>60.0</td>\n",
       "      <td>9550</td>\n",
       "      <td>Pave</td>\n",
       "      <td>NaN</td>\n",
       "      <td>IR1</td>\n",
       "      <td>Lvl</td>\n",
       "      <td>AllPub</td>\n",
       "      <td>...</td>\n",
       "      <td>0</td>\n",
       "      <td>NaN</td>\n",
       "      <td>NaN</td>\n",
       "      <td>NaN</td>\n",
       "      <td>0</td>\n",
       "      <td>2</td>\n",
       "      <td>2006</td>\n",
       "      <td>WD</td>\n",
       "      <td>Abnorml</td>\n",
       "      <td>140000</td>\n",
       "    </tr>\n",
       "    <tr>\n",
       "      <th>4</th>\n",
       "      <td>5</td>\n",
       "      <td>60</td>\n",
       "      <td>RL</td>\n",
       "      <td>84.0</td>\n",
       "      <td>14260</td>\n",
       "      <td>Pave</td>\n",
       "      <td>NaN</td>\n",
       "      <td>IR1</td>\n",
       "      <td>Lvl</td>\n",
       "      <td>AllPub</td>\n",
       "      <td>...</td>\n",
       "      <td>0</td>\n",
       "      <td>NaN</td>\n",
       "      <td>NaN</td>\n",
       "      <td>NaN</td>\n",
       "      <td>0</td>\n",
       "      <td>12</td>\n",
       "      <td>2008</td>\n",
       "      <td>WD</td>\n",
       "      <td>Normal</td>\n",
       "      <td>250000</td>\n",
       "    </tr>\n",
       "  </tbody>\n",
       "</table>\n",
       "<p>5 rows × 81 columns</p>\n",
       "</div>"
      ],
      "text/plain": [
       "   Id  MSSubClass MSZoning  LotFrontage  LotArea Street Alley LotShape  \\\n",
       "0   1          60       RL         65.0     8450   Pave   NaN      Reg   \n",
       "1   2          20       RL         80.0     9600   Pave   NaN      Reg   \n",
       "2   3          60       RL         68.0    11250   Pave   NaN      IR1   \n",
       "3   4          70       RL         60.0     9550   Pave   NaN      IR1   \n",
       "4   5          60       RL         84.0    14260   Pave   NaN      IR1   \n",
       "\n",
       "  LandContour Utilities  ... PoolArea PoolQC Fence MiscFeature MiscVal MoSold  \\\n",
       "0         Lvl    AllPub  ...        0    NaN   NaN         NaN       0      2   \n",
       "1         Lvl    AllPub  ...        0    NaN   NaN         NaN       0      5   \n",
       "2         Lvl    AllPub  ...        0    NaN   NaN         NaN       0      9   \n",
       "3         Lvl    AllPub  ...        0    NaN   NaN         NaN       0      2   \n",
       "4         Lvl    AllPub  ...        0    NaN   NaN         NaN       0     12   \n",
       "\n",
       "  YrSold  SaleType  SaleCondition  SalePrice  \n",
       "0   2008        WD         Normal     208500  \n",
       "1   2007        WD         Normal     181500  \n",
       "2   2008        WD         Normal     223500  \n",
       "3   2006        WD        Abnorml     140000  \n",
       "4   2008        WD         Normal     250000  \n",
       "\n",
       "[5 rows x 81 columns]"
      ]
     },
     "execution_count": 2,
     "metadata": {},
     "output_type": "execute_result"
    }
   ],
   "source": [
    "data= pd.read_csv('C:\\\\Users\\\\Ramki\\\\Downloads\\\\DSA\\\\01. Python\\\\05. Statistics\\\\Datasets/train.csv')\n",
    "data.head(5)"
   ]
  },
  {
   "cell_type": "code",
   "execution_count": 3,
   "metadata": {},
   "outputs": [
    {
     "data": {
      "text/plain": [
       "(1460, 81)"
      ]
     },
     "execution_count": 3,
     "metadata": {},
     "output_type": "execute_result"
    }
   ],
   "source": [
    "data.shape"
   ]
  },
  {
   "cell_type": "markdown",
   "metadata": {},
   "source": [
    "## Key Elements of Descriptive Statistics\n",
    "\n",
    "### Measures Of Central Tendency\n",
    "\n",
    "* Mean\n",
    "* Median\n",
    "* Mode\n",
    "\n",
    "### Measures Of Spread\n",
    "\n",
    "* Range\n",
    "* Outliers\n",
    "* Interquantile Range\n",
    "* Variance\n",
    "\n",
    "### Dependence\n",
    "\n",
    "* Correlation v/s Causation\n",
    "* Covariance"
   ]
  },
  {
   "cell_type": "markdown",
   "metadata": {},
   "source": [
    "#### Mean"
   ]
  },
  {
   "cell_type": "code",
   "execution_count": 4,
   "metadata": {},
   "outputs": [
    {
     "name": "stdout",
     "output_type": "stream",
     "text": [
      "180921.19589041095\n"
     ]
    }
   ],
   "source": [
    "mean = np.mean(data['SalePrice'])\n",
    "print(mean)"
   ]
  },
  {
   "cell_type": "markdown",
   "metadata": {},
   "source": [
    "#### Median"
   ]
  },
  {
   "cell_type": "code",
   "execution_count": 5,
   "metadata": {},
   "outputs": [
    {
     "name": "stdout",
     "output_type": "stream",
     "text": [
      "163000.0\n"
     ]
    }
   ],
   "source": [
    "median=np.median(data['SalePrice'])\n",
    "print(median)"
   ]
  },
  {
   "cell_type": "markdown",
   "metadata": {},
   "source": [
    "#### Mode"
   ]
  },
  {
   "cell_type": "code",
   "execution_count": 6,
   "metadata": {},
   "outputs": [
    {
     "name": "stdout",
     "output_type": "stream",
     "text": [
      "[140000]\n"
     ]
    }
   ],
   "source": [
    "#1st way to find mode\n",
    "from scipy import stats\n",
    "mode=stats.mode(data['SalePrice'])\n",
    "print(mode[0])"
   ]
  },
  {
   "cell_type": "code",
   "execution_count": 7,
   "metadata": {},
   "outputs": [
    {
     "name": "stdout",
     "output_type": "stream",
     "text": [
      "0    140000\n",
      "dtype: int64\n"
     ]
    }
   ],
   "source": [
    "#2nd way to find mode\n",
    "salePrice=data['SalePrice']\n",
    "mode2=salePrice.mode()\n",
    "print(mode2)"
   ]
  },
  {
   "cell_type": "markdown",
   "metadata": {},
   "source": [
    "#### Range\n",
    "* Max value - Min value"
   ]
  },
  {
   "cell_type": "code",
   "execution_count": 8,
   "metadata": {},
   "outputs": [
    {
     "data": {
      "text/plain": [
       "720100"
      ]
     },
     "execution_count": 8,
     "metadata": {},
     "output_type": "execute_result"
    }
   ],
   "source": [
    "Range= np.max(salePrice)-np.min(salePrice)\n",
    "Range"
   ]
  },
  {
   "cell_type": "markdown",
   "metadata": {},
   "source": [
    "#### Variance\n",
    "* The variance is a measure of how far each value in the data set is from the mean"
   ]
  },
  {
   "cell_type": "code",
   "execution_count": 9,
   "metadata": {},
   "outputs": [
    {
     "data": {
      "text/plain": [
       "6311111264.297451"
      ]
     },
     "execution_count": 9,
     "metadata": {},
     "output_type": "execute_result"
    }
   ],
   "source": [
    "variance= salePrice.var()\n",
    "variance"
   ]
  },
  {
   "cell_type": "markdown",
   "metadata": {},
   "source": [
    "#### Standard Deviation\n",
    "* The standard deviation is simply the (positive) square root of the variance"
   ]
  },
  {
   "cell_type": "code",
   "execution_count": 10,
   "metadata": {},
   "outputs": [
    {
     "data": {
      "text/plain": [
       "79442.50288288663"
      ]
     },
     "execution_count": 10,
     "metadata": {},
     "output_type": "execute_result"
    }
   ],
   "source": [
    "from math import sqrt\n",
    "std= sqrt(variance)\n",
    "std"
   ]
  },
  {
   "cell_type": "raw",
   "metadata": {},
   "source": [
    "If we know that our data is Normally Distributed, we can confidently say that:\n",
    "~68% of the data is within one Std. Dev. from the mean\n",
    "~95% of the data is within 2 Std. Dev. from the mean\n",
    "~99.7% of the data is within 3 Std Dev from the mean"
   ]
  },
  {
   "attachments": {
    "image.png": {
     "image/png": "[encoded data removed]"
    }
   },
   "cell_type": "markdown",
   "metadata": {},
   "source": [
    "![image.png](attachment:image.png)"
   ]
  },
  {
   "cell_type": "markdown",
   "metadata": {},
   "source": [
    "#### Inter Quantile Range\n",
    "\n",
    "* Taking the concept of median a step further, we can define the Inter - Quartile Range.\n",
    "* IQR is a measure of variability and is based on dividing a data set into quartiles.\n",
    "* Quartile is the division of a set of observations into four intervals based on the values of the data."
   ]
  },
  {
   "attachments": {
    "image.png": {
     "image/png": "[encoded data removed]"
    }
   },
   "cell_type": "markdown",
   "metadata": {},
   "source": [
    "![image.png](attachment:image.png)\n",
    "\n",
    "***The interquartile range is equal to Q3 minus Q1.***\n",
    "\n",
    "#### Outliers with Box Plot\n",
    "\n",
    "* The Boxplot above shows some additional observations below MINIMUM and above MAXIMUM. These are Outliers.\n",
    "* There are many ways to mathematically represent or define outliers. One such method is using IQR."
   ]
  },
  {
   "cell_type": "code",
   "execution_count": 11,
   "metadata": {},
   "outputs": [
    {
     "data": {
      "text/plain": [
       "326099.99999999994"
      ]
     },
     "execution_count": 11,
     "metadata": {},
     "output_type": "execute_result"
    }
   ],
   "source": [
    "x= salePrice.quantile(0.95)\n",
    "x"
   ]
  },
  {
   "cell_type": "code",
   "execution_count": 12,
   "metadata": {},
   "outputs": [
    {
     "name": "stdout",
     "output_type": "stream",
     "text": [
      "Median : 163000.0\n",
      "Q1: 129975.0\n",
      "Q3: 214000.0\n",
      "IQR: 84025.0\n"
     ]
    }
   ],
   "source": [
    "### IQR \n",
    "\n",
    "# Median\n",
    "median = np.median(data['SalePrice'])\n",
    "print(\"Median :\",median)\n",
    "\n",
    "# lower quartile  \n",
    "q1 = data['SalePrice'].quantile(0.25)\n",
    "\n",
    "# upper quartile\n",
    "q3 = data['SalePrice'].quantile(0.75)\n",
    "\n",
    "# printing Results\n",
    "print(\"Q1:\", q1)\n",
    "print(\"Q3:\", q3)\n",
    "print(\"IQR:\", q3 - q1)"
   ]
  },
  {
   "cell_type": "code",
   "execution_count": 13,
   "metadata": {},
   "outputs": [
    {
     "name": "stdout",
     "output_type": "stream",
     "text": [
      "Outlier Upper Limit : 3937.5\n",
      "Outlier Lower Limit : 340037.5\n"
     ]
    }
   ],
   "source": [
    "## lets find no. of outliers\n",
    "\n",
    "# for that we have to find the upper and ower outlier limit\n",
    "outlier_lower_limit = q1 - 1.5*(q3 - q1)\n",
    "outlier_upper_limit = q3 + 1.5*(q3 - q1)\n",
    "print(\"Outlier Upper Limit :\", outlier_lower_limit)\n",
    "print(\"Outlier Lower Limit :\", outlier_upper_limit)"
   ]
  },
  {
   "cell_type": "code",
   "execution_count": 14,
   "metadata": {},
   "outputs": [
    {
     "name": "stdout",
     "output_type": "stream",
     "text": [
      "lower_limit_outliers: 0\n",
      "upper_limit_outliers: 61\n",
      "total outliers: 61\n"
     ]
    }
   ],
   "source": [
    "Sales_price = data['SalePrice']\n",
    "\n",
    "lower_limit_outliers = Sales_price[Sales_price < outlier_lower_limit].count()\n",
    "\n",
    "upper_limit_outliers = Sales_price[Sales_price > outlier_upper_limit].count()\n",
    "\n",
    "print(\"lower_limit_outliers:\", lower_limit_outliers)\n",
    "print(\"upper_limit_outliers:\", upper_limit_outliers)\n",
    "print(\"total outliers:\", upper_limit_outliers + lower_limit_outliers)"
   ]
  },
  {
   "attachments": {
    "image.png": {
     "image/png": "[encoded data removed]"
    }
   },
   "cell_type": "markdown",
   "metadata": {},
   "source": [
    "#### Skewness\n",
    "\n",
    "In probability theory and statistics, skewness is a measure of the asymmetry of the probability distribution of a real-valued random variable about its mean. The skewness value can be positive or negative, or undefined\n",
    "\n",
    "![image.png](attachment:image.png)"
   ]
  },
  {
   "attachments": {
    "image.png": {
     "image/png": "[encoded data removed]"
    }
   },
   "cell_type": "markdown",
   "metadata": {},
   "source": [
    "#### Correlation\n",
    "* A correlation coefficient of 1 means that for every positive increase of 1 in one variable, there is a positive increase of 1 in the other.\n",
    "* A correlation coefficient of -1 means that for every positive increase of 1 in one variable, there is a negative decrease of 1 in the other.\n",
    "* Zero means that for every increase, there isn’t a positive or negative increase. The two just aren’t related.\n",
    "\n",
    "![image.png](attachment:image.png)"
   ]
  },
  {
   "cell_type": "code",
   "execution_count": 15,
   "metadata": {},
   "outputs": [
    {
     "data": {
      "text/html": [
       "<style  type=\"text/css\" >\n",
       "    #T_b0f315b5_1507_11eb_8862_e0d4e8d777f5row0_col0 {\n",
       "            background-color:  #fc7f00;\n",
       "            color:  #000000;\n",
       "        }    #T_b0f315b5_1507_11eb_8862_e0d4e8d777f5row0_col1 {\n",
       "            background-color:  #e4ff7a;\n",
       "            color:  #000000;\n",
       "        }    #T_b0f315b5_1507_11eb_8862_e0d4e8d777f5row0_col2 {\n",
       "            background-color:  #e4ff7a;\n",
       "            color:  #000000;\n",
       "        }    #T_b0f315b5_1507_11eb_8862_e0d4e8d777f5row0_col3 {\n",
       "            background-color:  #e4ff7a;\n",
       "            color:  #000000;\n",
       "        }    #T_b0f315b5_1507_11eb_8862_e0d4e8d777f5row1_col0 {\n",
       "            background-color:  #eff654;\n",
       "            color:  #000000;\n",
       "        }    #T_b0f315b5_1507_11eb_8862_e0d4e8d777f5row1_col1 {\n",
       "            background-color:  #fc7f00;\n",
       "            color:  #000000;\n",
       "        }    #T_b0f315b5_1507_11eb_8862_e0d4e8d777f5row1_col2 {\n",
       "            background-color:  #ffd60f;\n",
       "            color:  #000000;\n",
       "        }    #T_b0f315b5_1507_11eb_8862_e0d4e8d777f5row1_col3 {\n",
       "            background-color:  #ffb100;\n",
       "            color:  #000000;\n",
       "        }    #T_b0f315b5_1507_11eb_8862_e0d4e8d777f5row2_col0 {\n",
       "            background-color:  #e4ff7a;\n",
       "            color:  #000000;\n",
       "        }    #T_b0f315b5_1507_11eb_8862_e0d4e8d777f5row2_col1 {\n",
       "            background-color:  #ffe317;\n",
       "            color:  #000000;\n",
       "        }    #T_b0f315b5_1507_11eb_8862_e0d4e8d777f5row2_col2 {\n",
       "            background-color:  #fc7f00;\n",
       "            color:  #000000;\n",
       "        }    #T_b0f315b5_1507_11eb_8862_e0d4e8d777f5row2_col3 {\n",
       "            background-color:  #ffbf01;\n",
       "            color:  #000000;\n",
       "        }    #T_b0f315b5_1507_11eb_8862_e0d4e8d777f5row3_col0 {\n",
       "            background-color:  #eff653;\n",
       "            color:  #000000;\n",
       "        }    #T_b0f315b5_1507_11eb_8862_e0d4e8d777f5row3_col1 {\n",
       "            background-color:  #ffb100;\n",
       "            color:  #000000;\n",
       "        }    #T_b0f315b5_1507_11eb_8862_e0d4e8d777f5row3_col2 {\n",
       "            background-color:  #ffb800;\n",
       "            color:  #000000;\n",
       "        }    #T_b0f315b5_1507_11eb_8862_e0d4e8d777f5row3_col3 {\n",
       "            background-color:  #fc7f00;\n",
       "            color:  #000000;\n",
       "        }</style><table id=\"T_b0f315b5_1507_11eb_8862_e0d4e8d777f5\" ><thead>    <tr>        <th class=\"blank level0\" ></th>        <th class=\"col_heading level0 col0\" >LotArea</th>        <th class=\"col_heading level0 col1\" >GrLivArea</th>        <th class=\"col_heading level0 col2\" >GarageArea</th>        <th class=\"col_heading level0 col3\" >SalePrice</th>    </tr></thead><tbody>\n",
       "                <tr>\n",
       "                        <th id=\"T_b0f315b5_1507_11eb_8862_e0d4e8d777f5level0_row0\" class=\"row_heading level0 row0\" >LotArea</th>\n",
       "                        <td id=\"T_b0f315b5_1507_11eb_8862_e0d4e8d777f5row0_col0\" class=\"data row0 col0\" >1.000000</td>\n",
       "                        <td id=\"T_b0f315b5_1507_11eb_8862_e0d4e8d777f5row0_col1\" class=\"data row0 col1\" >0.263116</td>\n",
       "                        <td id=\"T_b0f315b5_1507_11eb_8862_e0d4e8d777f5row0_col2\" class=\"data row0 col2\" >0.180403</td>\n",
       "                        <td id=\"T_b0f315b5_1507_11eb_8862_e0d4e8d777f5row0_col3\" class=\"data row0 col3\" >0.263843</td>\n",
       "            </tr>\n",
       "            <tr>\n",
       "                        <th id=\"T_b0f315b5_1507_11eb_8862_e0d4e8d777f5level0_row1\" class=\"row_heading level0 row1\" >GrLivArea</th>\n",
       "                        <td id=\"T_b0f315b5_1507_11eb_8862_e0d4e8d777f5row1_col0\" class=\"data row1 col0\" >0.263116</td>\n",
       "                        <td id=\"T_b0f315b5_1507_11eb_8862_e0d4e8d777f5row1_col1\" class=\"data row1 col1\" >1.000000</td>\n",
       "                        <td id=\"T_b0f315b5_1507_11eb_8862_e0d4e8d777f5row1_col2\" class=\"data row1 col2\" >0.468997</td>\n",
       "                        <td id=\"T_b0f315b5_1507_11eb_8862_e0d4e8d777f5row1_col3\" class=\"data row1 col3\" >0.708624</td>\n",
       "            </tr>\n",
       "            <tr>\n",
       "                        <th id=\"T_b0f315b5_1507_11eb_8862_e0d4e8d777f5level0_row2\" class=\"row_heading level0 row2\" >GarageArea</th>\n",
       "                        <td id=\"T_b0f315b5_1507_11eb_8862_e0d4e8d777f5row2_col0\" class=\"data row2 col0\" >0.180403</td>\n",
       "                        <td id=\"T_b0f315b5_1507_11eb_8862_e0d4e8d777f5row2_col1\" class=\"data row2 col1\" >0.468997</td>\n",
       "                        <td id=\"T_b0f315b5_1507_11eb_8862_e0d4e8d777f5row2_col2\" class=\"data row2 col2\" >1.000000</td>\n",
       "                        <td id=\"T_b0f315b5_1507_11eb_8862_e0d4e8d777f5row2_col3\" class=\"data row2 col3\" >0.623431</td>\n",
       "            </tr>\n",
       "            <tr>\n",
       "                        <th id=\"T_b0f315b5_1507_11eb_8862_e0d4e8d777f5level0_row3\" class=\"row_heading level0 row3\" >SalePrice</th>\n",
       "                        <td id=\"T_b0f315b5_1507_11eb_8862_e0d4e8d777f5row3_col0\" class=\"data row3 col0\" >0.263843</td>\n",
       "                        <td id=\"T_b0f315b5_1507_11eb_8862_e0d4e8d777f5row3_col1\" class=\"data row3 col1\" >0.708624</td>\n",
       "                        <td id=\"T_b0f315b5_1507_11eb_8862_e0d4e8d777f5row3_col2\" class=\"data row3 col2\" >0.623431</td>\n",
       "                        <td id=\"T_b0f315b5_1507_11eb_8862_e0d4e8d777f5row3_col3\" class=\"data row3 col3\" >1.000000</td>\n",
       "            </tr>\n",
       "    </tbody></table>"
      ],
      "text/plain": [
       "<pandas.io.formats.style.Styler at 0x24b5dda93a0>"
      ]
     },
     "execution_count": 15,
     "metadata": {},
     "output_type": "execute_result"
    }
   ],
   "source": [
    "#considering 4 continous variable and finding the correlation\n",
    "\n",
    "data[['LotArea','GrLivArea','GarageArea','SalePrice']].corr().style.background_gradient(cmap = 'Wistia')"
   ]
  },
  {
   "cell_type": "markdown",
   "metadata": {},
   "source": [
    "#### Covariance\n",
    "* Covariance is between -infinity to +infinity\n",
    "* Covariance's standardized version is correlation"
   ]
  },
  {
   "cell_type": "code",
   "execution_count": 16,
   "metadata": {},
   "outputs": [
    {
     "data": {
      "text/html": [
       "<style  type=\"text/css\" >\n",
       "    #T_b0fd4f3f_1507_11eb_b747_e0d4e8d777f5row0_col0 {\n",
       "            background-color:  #955f3c;\n",
       "            color:  #f1f1f1;\n",
       "        }    #T_b0fd4f3f_1507_11eb_b747_e0d4e8d777f5row0_col1 {\n",
       "            background-color:  #0e0905;\n",
       "            color:  #f1f1f1;\n",
       "        }    #T_b0fd4f3f_1507_11eb_b747_e0d4e8d777f5row0_col2 {\n",
       "            background-color:  #0a0604;\n",
       "            color:  #f1f1f1;\n",
       "        }    #T_b0fd4f3f_1507_11eb_b747_e0d4e8d777f5row0_col3 {\n",
       "            background-color:  #0a0604;\n",
       "            color:  #f1f1f1;\n",
       "        }    #T_b0fd4f3f_1507_11eb_b747_e0d4e8d777f5row1_col0 {\n",
       "            background-color:  #010100;\n",
       "            color:  #f1f1f1;\n",
       "        }    #T_b0fd4f3f_1507_11eb_b747_e0d4e8d777f5row1_col1 {\n",
       "            background-color:  #010100;\n",
       "            color:  #f1f1f1;\n",
       "        }    #T_b0fd4f3f_1507_11eb_b747_e0d4e8d777f5row1_col2 {\n",
       "            background-color:  #000000;\n",
       "            color:  #f1f1f1;\n",
       "        }    #T_b0fd4f3f_1507_11eb_b747_e0d4e8d777f5row1_col3 {\n",
       "            background-color:  #000000;\n",
       "            color:  #f1f1f1;\n",
       "        }    #T_b0fd4f3f_1507_11eb_b747_e0d4e8d777f5row2_col0 {\n",
       "            background-color:  #000000;\n",
       "            color:  #f1f1f1;\n",
       "        }    #T_b0fd4f3f_1507_11eb_b747_e0d4e8d777f5row2_col1 {\n",
       "            background-color:  #000000;\n",
       "            color:  #f1f1f1;\n",
       "        }    #T_b0fd4f3f_1507_11eb_b747_e0d4e8d777f5row2_col2 {\n",
       "            background-color:  #000000;\n",
       "            color:  #f1f1f1;\n",
       "        }    #T_b0fd4f3f_1507_11eb_b747_e0d4e8d777f5row2_col3 {\n",
       "            background-color:  #000000;\n",
       "            color:  #f1f1f1;\n",
       "        }    #T_b0fd4f3f_1507_11eb_b747_e0d4e8d777f5row3_col0 {\n",
       "            background-color:  #ffc77f;\n",
       "            color:  #000000;\n",
       "        }    #T_b0fd4f3f_1507_11eb_b747_e0d4e8d777f5row3_col1 {\n",
       "            background-color:  #ffc77f;\n",
       "            color:  #000000;\n",
       "        }    #T_b0fd4f3f_1507_11eb_b747_e0d4e8d777f5row3_col2 {\n",
       "            background-color:  #ffc77f;\n",
       "            color:  #000000;\n",
       "        }    #T_b0fd4f3f_1507_11eb_b747_e0d4e8d777f5row3_col3 {\n",
       "            background-color:  #ffc77f;\n",
       "            color:  #000000;\n",
       "        }</style><table id=\"T_b0fd4f3f_1507_11eb_b747_e0d4e8d777f5\" ><thead>    <tr>        <th class=\"blank level0\" ></th>        <th class=\"col_heading level0 col0\" >LotArea</th>        <th class=\"col_heading level0 col1\" >GrLivArea</th>        <th class=\"col_heading level0 col2\" >GarageArea</th>        <th class=\"col_heading level0 col3\" >SalePrice</th>    </tr></thead><tbody>\n",
       "                <tr>\n",
       "                        <th id=\"T_b0fd4f3f_1507_11eb_b747_e0d4e8d777f5level0_row0\" class=\"row_heading level0 row0\" >LotArea</th>\n",
       "                        <td id=\"T_b0fd4f3f_1507_11eb_b747_e0d4e8d777f5row0_col0\" class=\"data row0 col0\" >99625649.650342</td>\n",
       "                        <td id=\"T_b0fd4f3f_1507_11eb_b747_e0d4e8d777f5row0_col1\" class=\"data row0 col1\" >1380033.488957</td>\n",
       "                        <td id=\"T_b0fd4f3f_1507_11eb_b747_e0d4e8d777f5row0_col2\" class=\"data row0 col2\" >384987.194664</td>\n",
       "                        <td id=\"T_b0fd4f3f_1507_11eb_b747_e0d4e8d777f5row0_col3\" class=\"data row0 col3\" >209211069.936373</td>\n",
       "            </tr>\n",
       "            <tr>\n",
       "                        <th id=\"T_b0fd4f3f_1507_11eb_b747_e0d4e8d777f5level0_row1\" class=\"row_heading level0 row1\" >GrLivArea</th>\n",
       "                        <td id=\"T_b0fd4f3f_1507_11eb_b747_e0d4e8d777f5row1_col0\" class=\"data row1 col0\" >1380033.488957</td>\n",
       "                        <td id=\"T_b0fd4f3f_1507_11eb_b747_e0d4e8d777f5row1_col1\" class=\"data row1 col1\" >276129.633363</td>\n",
       "                        <td id=\"T_b0fd4f3f_1507_11eb_b747_e0d4e8d777f5row1_col2\" class=\"data row1 col2\" >52691.983857</td>\n",
       "                        <td id=\"T_b0fd4f3f_1507_11eb_b747_e0d4e8d777f5row1_col3\" class=\"data row1 col3\" >29581866.743237</td>\n",
       "            </tr>\n",
       "            <tr>\n",
       "                        <th id=\"T_b0fd4f3f_1507_11eb_b747_e0d4e8d777f5level0_row2\" class=\"row_heading level0 row2\" >GarageArea</th>\n",
       "                        <td id=\"T_b0fd4f3f_1507_11eb_b747_e0d4e8d777f5row2_col0\" class=\"data row2 col0\" >384987.194664</td>\n",
       "                        <td id=\"T_b0fd4f3f_1507_11eb_b747_e0d4e8d777f5row2_col1\" class=\"data row2 col1\" >52691.983857</td>\n",
       "                        <td id=\"T_b0fd4f3f_1507_11eb_b747_e0d4e8d777f5row2_col2\" class=\"data row2 col2\" >45712.510229</td>\n",
       "                        <td id=\"T_b0fd4f3f_1507_11eb_b747_e0d4e8d777f5row2_col3\" class=\"data row2 col3\" >10589102.522742</td>\n",
       "            </tr>\n",
       "            <tr>\n",
       "                        <th id=\"T_b0fd4f3f_1507_11eb_b747_e0d4e8d777f5level0_row3\" class=\"row_heading level0 row3\" >SalePrice</th>\n",
       "                        <td id=\"T_b0fd4f3f_1507_11eb_b747_e0d4e8d777f5row3_col0\" class=\"data row3 col0\" >209211069.936373</td>\n",
       "                        <td id=\"T_b0fd4f3f_1507_11eb_b747_e0d4e8d777f5row3_col1\" class=\"data row3 col1\" >29581866.743237</td>\n",
       "                        <td id=\"T_b0fd4f3f_1507_11eb_b747_e0d4e8d777f5row3_col2\" class=\"data row3 col2\" >10589102.522742</td>\n",
       "                        <td id=\"T_b0fd4f3f_1507_11eb_b747_e0d4e8d777f5row3_col3\" class=\"data row3 col3\" >6311111264.297455</td>\n",
       "            </tr>\n",
       "    </tbody></table>"
      ],
      "text/plain": [
       "<pandas.io.formats.style.Styler at 0x24b5e19e700>"
      ]
     },
     "execution_count": 16,
     "metadata": {},
     "output_type": "execute_result"
    }
   ],
   "source": [
    "data[['LotArea','GrLivArea','GarageArea','SalePrice']].cov().style.background_gradient(cmap = 'copper')"
   ]
  },
  {
   "cell_type": "code",
   "execution_count": null,
   "metadata": {},
   "outputs": [],
   "source": []
  }
 ],
 "metadata": {
  "kernelspec": {
   "display_name": "Python 3",
   "language": "python",
   "name": "python3"
  },
  "language_info": {
   "codemirror_mode": {
    "name": "ipython",
    "version": 3
   },
   "file_extension": ".py",
   "mimetype": "text/x-python",
   "name": "python",
   "nbconvert_exporter": "python",
   "pygments_lexer": "ipython3",
   "version": "3.8.3"
  }
 },
 "nbformat": 4,
 "nbformat_minor": 4
}
